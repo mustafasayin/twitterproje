{
 "cells": [
  {
   "cell_type": "code",
   "execution_count": 1,
   "metadata": {},
   "outputs": [],
   "source": [
    "#apı key :uZ4A6gYCyYMjLfNGmJottjO0H"
   ]
  },
  {
   "cell_type": "code",
   "execution_count": 2,
   "metadata": {},
   "outputs": [],
   "source": [
    "#api secret key : EE980C4yDBYrpHmw2PNeylxJkXXkMMPVznKjmV7aYbnLIRmHFX"
   ]
  },
  {
   "cell_type": "code",
   "execution_count": 3,
   "metadata": {},
   "outputs": [],
   "source": [
    "#bearer token : AAAAAAAAAAAAAAAAAAAAANUkRAEAAAAAEOr3kAtP2%2F36ljrHd6rSV88W4wc%3D9ORwZYxM3V17sWptV8omIfFcXXUdJHoB8f9T2j9bJZ5ecmUkAx"
   ]
  },
  {
   "cell_type": "code",
   "execution_count": 4,
   "metadata": {},
   "outputs": [],
   "source": [
    "#access token : 1137017111317024768-bTaklNTeaTatMnW41kyMHt0f515bzX"
   ]
  },
  {
   "cell_type": "code",
   "execution_count": 5,
   "metadata": {},
   "outputs": [],
   "source": [
    "#access token secret : JgskvnYc2ZwovuPwRaiixBmuwzWPmsUp81THKf0m8Fkgj"
   ]
  },
  {
   "cell_type": "code",
   "execution_count": 6,
   "metadata": {},
   "outputs": [],
   "source": [
    "from warnings import filterwarnings\n",
    "filterwarnings('ignore')"
   ]
  },
  {
   "cell_type": "code",
   "execution_count": 7,
   "metadata": {},
   "outputs": [
    {
     "name": "stdout",
     "output_type": "stream",
     "text": [
      "Requirement already satisfied: tweepy in c:\\users\\monster\\anaconda3\\lib\\site-packages (3.10.0)\n",
      "Requirement already satisfied: requests-oauthlib>=0.7.0 in c:\\users\\monster\\anaconda3\\lib\\site-packages (from tweepy) (1.3.0)\n",
      "Requirement already satisfied: six>=1.10.0 in c:\\users\\monster\\anaconda3\\lib\\site-packages (from tweepy) (1.15.0)\n",
      "Requirement already satisfied: requests[socks]>=2.11.1 in c:\\users\\monster\\anaconda3\\lib\\site-packages (from tweepy) (2.25.1)\n",
      "Requirement already satisfied: oauthlib>=3.0.0 in c:\\users\\monster\\anaconda3\\lib\\site-packages (from requests-oauthlib>=0.7.0->tweepy) (3.1.1)\n",
      "Requirement already satisfied: certifi>=2017.4.17 in c:\\users\\monster\\anaconda3\\lib\\site-packages (from requests[socks]>=2.11.1->tweepy) (2020.12.5)\n",
      "Requirement already satisfied: urllib3<1.27,>=1.21.1 in c:\\users\\monster\\anaconda3\\lib\\site-packages (from requests[socks]>=2.11.1->tweepy) (1.26.4)\n",
      "Requirement already satisfied: chardet<5,>=3.0.2 in c:\\users\\monster\\anaconda3\\lib\\site-packages (from requests[socks]>=2.11.1->tweepy) (4.0.0)\n",
      "Requirement already satisfied: idna<3,>=2.5 in c:\\users\\monster\\anaconda3\\lib\\site-packages (from requests[socks]>=2.11.1->tweepy) (2.10)\n",
      "Requirement already satisfied: PySocks!=1.5.7,>=1.5.6 in c:\\users\\monster\\anaconda3\\lib\\site-packages (from requests[socks]>=2.11.1->tweepy) (1.7.1)\n"
     ]
    }
   ],
   "source": [
    "!pip install tweepy"
   ]
  },
  {
   "cell_type": "code",
   "execution_count": 8,
   "metadata": {},
   "outputs": [],
   "source": [
    "import tweepy, codecs\n",
    "\n",
    "\n",
    "consumer_key = 'uZ4A6gYCyYMjLfNGmJottjO0H'\n",
    "consumer_secret = 'EE980C4yDBYrpHmw2PNeylxJkXXkMMPVznKjmV7aYbnLIRmHFX'\n",
    "access_token = '1137017111317024768-bTaklNTeaTatMnW41kyMHt0f515bzX'\n",
    "access_token_secret = 'JgskvnYc2ZwovuPwRaiixBmuwzWPmsUp81THKf0m8Fkgj'\n",
    "\n",
    "\n",
    "auth = tweepy.OAuthHandler(consumer_key, consumer_secret)\n",
    "auth.set_access_token(access_token, access_token_secret)\n",
    "api = tweepy.API(auth)"
   ]
  },
  {
   "cell_type": "markdown",
   "metadata": {},
   "source": [
    "Bu noktada twitter ile bağlantı gerçekleştirdik."
   ]
  },
  {
   "cell_type": "code",
   "execution_count": 10,
   "metadata": {},
   "outputs": [],
   "source": [
    "mes = api.me()"
   ]
  },
  {
   "cell_type": "code",
   "execution_count": 11,
   "metadata": {},
   "outputs": [
    {
     "data": {
      "text/plain": [
       "'h0nbad'"
      ]
     },
     "execution_count": 11,
     "metadata": {},
     "output_type": "execute_result"
    }
   ],
   "source": [
    "mes.screen_name"
   ]
  },
  {
   "cell_type": "code",
   "execution_count": 12,
   "metadata": {},
   "outputs": [],
   "source": [
    "#kullanıcı temel bilgileri"
   ]
  },
  {
   "cell_type": "code",
   "execution_count": 13,
   "metadata": {},
   "outputs": [],
   "source": [
    "user = api.get_user(id = \"h0nbad\")"
   ]
  },
  {
   "cell_type": "code",
   "execution_count": 14,
   "metadata": {},
   "outputs": [
    {
     "data": {
      "text/plain": [
       "'h0nbad'"
      ]
     },
     "execution_count": 14,
     "metadata": {},
     "output_type": "execute_result"
    }
   ],
   "source": [
    "user.screen_name"
   ]
  },
  {
   "cell_type": "code",
   "execution_count": 15,
   "metadata": {},
   "outputs": [
    {
     "data": {
      "text/plain": [
       "86"
      ]
     },
     "execution_count": 15,
     "metadata": {},
     "output_type": "execute_result"
    }
   ],
   "source": [
    "user.followers_count"
   ]
  },
  {
   "cell_type": "code",
   "execution_count": 17,
   "metadata": {},
   "outputs": [
    {
     "name": "stdout",
     "output_type": "stream",
     "text": [
      "@FGemci Hmm ✍️\n",
      "Böyle ülke yönetimine, böyle topluma, böyle liyakatsiz planlamaya böyle milli takım :)\n",
      "@fthdulgar @hbylm Ajajajajsjdk\n",
      "@kahkecibeyza hakkımı yiyosun, ankara havası açınca halimi biliyosun..\n",
      "Beni sorgulamaya ve okumaya iten tüm etmenlere hayatımı borçluyum. Eğer sorgulamasaydım, bu toplum gibi düşünecek v… https://t.co/GgL5JYQt8g\n",
      "Bu toplum içerisinde yaşadığım her geçen gün, gördüğüm ve yaşadığım olaylar ile bu olaylara verilen tepkiler bana g… https://t.co/xQpJ7bNIkH\n",
      "@hbylm @CeyhunKnlz Kıyamet mi kopuyo\n",
      "“tuzağa düştün ahraz”\n",
      "@hbylm Duydun ya rab\n",
      "@hbylm Fener kaç yıl şampiyon olamaz?\n"
     ]
    }
   ],
   "source": [
    "name = \"h0nbad\"\n",
    "tweet_count = 10\n",
    "\n",
    "user_timetime = api.user_timeline(id = name, count = tweet_count)\n",
    "\n",
    "for i in user_timetime:\n",
    "    print(i.text)"
   ]
  },
  {
   "cell_type": "code",
   "execution_count": 18,
   "metadata": {},
   "outputs": [],
   "source": [
    "#retweet edilen tweetler"
   ]
  },
  {
   "cell_type": "code",
   "execution_count": 19,
   "metadata": {},
   "outputs": [
    {
     "name": "stdout",
     "output_type": "stream",
     "text": [
      "Ulan felek, kahpe misin değil misin bilmem ama, benden yana değilsin..\n",
      "@duhanarslan3 Kalmadı hocam gasp edildi, Atatürkçü ve aydın bir lideri yediler öylece\n",
      "@fthdulgar https://t.co/DDHmPZY5wy\n",
      "Sadece cs de değil.. https://t.co/PbdWUOx2pY\n",
      "@Enumoar https://t.co/YibwO8ORUL\n"
     ]
    }
   ],
   "source": [
    "retweets = api.retweets_of_me(count = 20)\n",
    "for retweet in retweets:\n",
    "    print(retweet.text)"
   ]
  },
  {
   "cell_type": "markdown",
   "metadata": {},
   "source": [
    "# Hashtag'ler"
   ]
  },
  {
   "cell_type": "markdown",
   "metadata": {},
   "source": [
    "Gün içerisindeki hastagler ile güncellenmiştir."
   ]
  },
  {
   "cell_type": "code",
   "execution_count": 20,
   "metadata": {},
   "outputs": [],
   "source": [
    "results = api.search(q = \"#izmir\", \n",
    "                     lang = \"tr\", \n",
    "                     result_type = \"recent\", \n",
    "                     count = 100)"
   ]
  },
  {
   "cell_type": "code",
   "execution_count": 21,
   "metadata": {},
   "outputs": [],
   "source": [
    "def tweets_df(results):\n",
    "    id_list = [tweet.id for tweet  in results]\n",
    "    import pandas as pd\n",
    "    data_set = pd.DataFrame(id_list, columns = [\"id\"])\n",
    "    \n",
    "    data_set[\"text\"] = [tweet.text for tweet in results]\n",
    "    data_set[\"created_at\"] = [tweet.created_at for tweet in results]\n",
    "    data_set[\"retweet_count\"] = [tweet.retweet_count for tweet in results]\n",
    "    data_set[\"user_screen_name\"] = [tweet.author.screen_name for tweet in results]\n",
    "    data_set[\"user_followers_count\"] = [tweet.author.followers_count for tweet in results]\n",
    "    data_set[\"user_location\"] = [tweet.author.location for tweet in results]\n",
    "    data_set[\"Hashtags\"] = [tweet.entities.get('hashtags') for tweet in results]\n",
    "    \n",
    "    return data_set"
   ]
  },
  {
   "cell_type": "code",
   "execution_count": 22,
   "metadata": {},
   "outputs": [],
   "source": [
    "data = tweets_df(results)"
   ]
  },
  {
   "cell_type": "code",
   "execution_count": 23,
   "metadata": {
    "tags": []
   },
   "outputs": [
    {
     "data": {
      "text/html": [
       "<div>\n",
       "<style scoped>\n",
       "    .dataframe tbody tr th:only-of-type {\n",
       "        vertical-align: middle;\n",
       "    }\n",
       "\n",
       "    .dataframe tbody tr th {\n",
       "        vertical-align: top;\n",
       "    }\n",
       "\n",
       "    .dataframe thead th {\n",
       "        text-align: right;\n",
       "    }\n",
       "</style>\n",
       "<table border=\"1\" class=\"dataframe\">\n",
       "  <thead>\n",
       "    <tr style=\"text-align: right;\">\n",
       "      <th></th>\n",
       "      <th>id</th>\n",
       "      <th>text</th>\n",
       "      <th>created_at</th>\n",
       "      <th>retweet_count</th>\n",
       "      <th>user_screen_name</th>\n",
       "      <th>user_followers_count</th>\n",
       "      <th>user_location</th>\n",
       "      <th>Hashtags</th>\n",
       "    </tr>\n",
       "  </thead>\n",
       "  <tbody>\n",
       "    <tr>\n",
       "      <th>0</th>\n",
       "      <td>1440983956791382019</td>\n",
       "      <td>Karsiyakadayim \\n\\nKendi evimde 🙈\\n\\n💯 OrjinaL...</td>\n",
       "      <td>2021-09-23 10:18:42</td>\n",
       "      <td>0</td>\n",
       "      <td>melisa050535</td>\n",
       "      <td>3</td>\n",
       "      <td></td>\n",
       "      <td>[]</td>\n",
       "    </tr>\n",
       "    <tr>\n",
       "      <th>1</th>\n",
       "      <td>1440983954274803712</td>\n",
       "      <td>olan birini #buca  üzebilmek #alsancak için #b...</td>\n",
       "      <td>2021-09-23 10:18:41</td>\n",
       "      <td>0</td>\n",
       "      <td>AksutOznil</td>\n",
       "      <td>139</td>\n",
       "      <td></td>\n",
       "      <td>[{'text': 'buca', 'indices': [12, 17]}, {'text...</td>\n",
       "    </tr>\n",
       "    <tr>\n",
       "      <th>2</th>\n",
       "      <td>1440983884867457028</td>\n",
       "      <td>RT @omeralpyasasin: Bu tweet'i gören herkes 10...</td>\n",
       "      <td>2021-09-23 10:18:24</td>\n",
       "      <td>69</td>\n",
       "      <td>SeviN_Rt</td>\n",
       "      <td>349</td>\n",
       "      <td></td>\n",
       "      <td>[{'text': 'izmir', 'indices': [131, 137]}]</td>\n",
       "    </tr>\n",
       "    <tr>\n",
       "      <th>3</th>\n",
       "      <td>1440983845533360131</td>\n",
       "      <td>RT @Berran92474880: sarılarak dışarı iple bekl...</td>\n",
       "      <td>2021-09-23 10:18:15</td>\n",
       "      <td>57</td>\n",
       "      <td>AskinYuzgec</td>\n",
       "      <td>29</td>\n",
       "      <td></td>\n",
       "      <td>[{'text': 'izmir', 'indices': [58, 64]}]</td>\n",
       "    </tr>\n",
       "    <tr>\n",
       "      <th>4</th>\n",
       "      <td>1440983844715470851</td>\n",
       "      <td>RT @Berran92474880: sarılarak dışarı iple bekl...</td>\n",
       "      <td>2021-09-23 10:18:15</td>\n",
       "      <td>57</td>\n",
       "      <td>Alva90133569</td>\n",
       "      <td>28</td>\n",
       "      <td></td>\n",
       "      <td>[{'text': 'izmir', 'indices': [58, 64]}]</td>\n",
       "    </tr>\n",
       "    <tr>\n",
       "      <th>...</th>\n",
       "      <td>...</td>\n",
       "      <td>...</td>\n",
       "      <td>...</td>\n",
       "      <td>...</td>\n",
       "      <td>...</td>\n",
       "      <td>...</td>\n",
       "      <td>...</td>\n",
       "      <td>...</td>\n",
       "    </tr>\n",
       "    <tr>\n",
       "      <th>57</th>\n",
       "      <td>1440983562484912132</td>\n",
       "      <td>RT @Beylem10130533: itibaren, Bir ne kadar #iz...</td>\n",
       "      <td>2021-09-23 10:17:08</td>\n",
       "      <td>57</td>\n",
       "      <td>Dalia44017323</td>\n",
       "      <td>28</td>\n",
       "      <td></td>\n",
       "      <td>[{'text': 'izmir', 'indices': [43, 49]}]</td>\n",
       "    </tr>\n",
       "    <tr>\n",
       "      <th>58</th>\n",
       "      <td>1440983561574682626</td>\n",
       "      <td>RT @Beylem10130533: itibaren, Bir ne kadar #iz...</td>\n",
       "      <td>2021-09-23 10:17:07</td>\n",
       "      <td>57</td>\n",
       "      <td>Siu26033580</td>\n",
       "      <td>28</td>\n",
       "      <td></td>\n",
       "      <td>[{'text': 'izmir', 'indices': [43, 49]}]</td>\n",
       "    </tr>\n",
       "    <tr>\n",
       "      <th>59</th>\n",
       "      <td>1440983560723308545</td>\n",
       "      <td>RT @Beylem10130533: itibaren, Bir ne kadar #iz...</td>\n",
       "      <td>2021-09-23 10:17:07</td>\n",
       "      <td>57</td>\n",
       "      <td>Vi32849724</td>\n",
       "      <td>28</td>\n",
       "      <td></td>\n",
       "      <td>[{'text': 'izmir', 'indices': [43, 49]}]</td>\n",
       "    </tr>\n",
       "    <tr>\n",
       "      <th>60</th>\n",
       "      <td>1440983559796363267</td>\n",
       "      <td>RT @Beylem10130533: itibaren, Bir ne kadar #iz...</td>\n",
       "      <td>2021-09-23 10:17:07</td>\n",
       "      <td>57</td>\n",
       "      <td>Tam50513562</td>\n",
       "      <td>28</td>\n",
       "      <td></td>\n",
       "      <td>[{'text': 'izmir', 'indices': [43, 49]}]</td>\n",
       "    </tr>\n",
       "    <tr>\n",
       "      <th>61</th>\n",
       "      <td>1440983556080209921</td>\n",
       "      <td>RT @Beylem10130533: itibaren, Bir ne kadar #iz...</td>\n",
       "      <td>2021-09-23 10:17:06</td>\n",
       "      <td>57</td>\n",
       "      <td>Lois14906994</td>\n",
       "      <td>28</td>\n",
       "      <td></td>\n",
       "      <td>[{'text': 'izmir', 'indices': [43, 49]}]</td>\n",
       "    </tr>\n",
       "  </tbody>\n",
       "</table>\n",
       "<p>62 rows × 8 columns</p>\n",
       "</div>"
      ],
      "text/plain": [
       "                     id                                               text  \\\n",
       "0   1440983956791382019  Karsiyakadayim \\n\\nKendi evimde 🙈\\n\\n💯 OrjinaL...   \n",
       "1   1440983954274803712  olan birini #buca  üzebilmek #alsancak için #b...   \n",
       "2   1440983884867457028  RT @omeralpyasasin: Bu tweet'i gören herkes 10...   \n",
       "3   1440983845533360131  RT @Berran92474880: sarılarak dışarı iple bekl...   \n",
       "4   1440983844715470851  RT @Berran92474880: sarılarak dışarı iple bekl...   \n",
       "..                  ...                                                ...   \n",
       "57  1440983562484912132  RT @Beylem10130533: itibaren, Bir ne kadar #iz...   \n",
       "58  1440983561574682626  RT @Beylem10130533: itibaren, Bir ne kadar #iz...   \n",
       "59  1440983560723308545  RT @Beylem10130533: itibaren, Bir ne kadar #iz...   \n",
       "60  1440983559796363267  RT @Beylem10130533: itibaren, Bir ne kadar #iz...   \n",
       "61  1440983556080209921  RT @Beylem10130533: itibaren, Bir ne kadar #iz...   \n",
       "\n",
       "            created_at  retweet_count user_screen_name  user_followers_count  \\\n",
       "0  2021-09-23 10:18:42              0     melisa050535                     3   \n",
       "1  2021-09-23 10:18:41              0       AksutOznil                   139   \n",
       "2  2021-09-23 10:18:24             69         SeviN_Rt                   349   \n",
       "3  2021-09-23 10:18:15             57      AskinYuzgec                    29   \n",
       "4  2021-09-23 10:18:15             57     Alva90133569                    28   \n",
       "..                 ...            ...              ...                   ...   \n",
       "57 2021-09-23 10:17:08             57    Dalia44017323                    28   \n",
       "58 2021-09-23 10:17:07             57      Siu26033580                    28   \n",
       "59 2021-09-23 10:17:07             57       Vi32849724                    28   \n",
       "60 2021-09-23 10:17:07             57      Tam50513562                    28   \n",
       "61 2021-09-23 10:17:06             57     Lois14906994                    28   \n",
       "\n",
       "   user_location                                           Hashtags  \n",
       "0                                                                []  \n",
       "1                 [{'text': 'buca', 'indices': [12, 17]}, {'text...  \n",
       "2                        [{'text': 'izmir', 'indices': [131, 137]}]  \n",
       "3                          [{'text': 'izmir', 'indices': [58, 64]}]  \n",
       "4                          [{'text': 'izmir', 'indices': [58, 64]}]  \n",
       "..           ...                                                ...  \n",
       "57                         [{'text': 'izmir', 'indices': [43, 49]}]  \n",
       "58                         [{'text': 'izmir', 'indices': [43, 49]}]  \n",
       "59                         [{'text': 'izmir', 'indices': [43, 49]}]  \n",
       "60                         [{'text': 'izmir', 'indices': [43, 49]}]  \n",
       "61                         [{'text': 'izmir', 'indices': [43, 49]}]  \n",
       "\n",
       "[62 rows x 8 columns]"
      ]
     },
     "execution_count": 23,
     "metadata": {},
     "output_type": "execute_result"
    }
   ],
   "source": [
    "data"
   ]
  },
  {
   "cell_type": "code",
   "execution_count": 24,
   "metadata": {},
   "outputs": [],
   "source": [
    "data.to_csv(\"data_twitter.csv\")"
   ]
  },
  {
   "cell_type": "markdown",
   "metadata": {},
   "source": [
    "# Profil Analizi"
   ]
  },
  {
   "cell_type": "code",
   "execution_count": 25,
   "metadata": {},
   "outputs": [],
   "source": [
    "#temel bilgiler"
   ]
  },
  {
   "cell_type": "code",
   "execution_count": 26,
   "metadata": {},
   "outputs": [],
   "source": [
    "mes = api.get_user(\"h0nbad\")"
   ]
  },
  {
   "cell_type": "code",
   "execution_count": 27,
   "metadata": {},
   "outputs": [
    {
     "data": {
      "text/plain": [
       "False"
      ]
     },
     "execution_count": 27,
     "metadata": {},
     "output_type": "execute_result"
    }
   ],
   "source": [
    "mes.verified"
   ]
  },
  {
   "cell_type": "code",
   "execution_count": 28,
   "metadata": {},
   "outputs": [
    {
     "data": {
      "text/plain": [
       "'h0nbad'"
      ]
     },
     "execution_count": 28,
     "metadata": {},
     "output_type": "execute_result"
    }
   ],
   "source": [
    "mes.screen_name"
   ]
  },
  {
   "cell_type": "code",
   "execution_count": 29,
   "metadata": {},
   "outputs": [
    {
     "data": {
      "text/plain": [
       "418"
      ]
     },
     "execution_count": 29,
     "metadata": {},
     "output_type": "execute_result"
    }
   ],
   "source": [
    "mes.statuses_count"
   ]
  },
  {
   "cell_type": "code",
   "execution_count": 30,
   "metadata": {},
   "outputs": [
    {
     "data": {
      "text/plain": [
       "86"
      ]
     },
     "execution_count": 30,
     "metadata": {},
     "output_type": "execute_result"
    }
   ],
   "source": [
    "mes.followers_count"
   ]
  },
  {
   "cell_type": "code",
   "execution_count": 31,
   "metadata": {},
   "outputs": [
    {
     "data": {
      "text/plain": [
       "8853"
      ]
     },
     "execution_count": 31,
     "metadata": {},
     "output_type": "execute_result"
    }
   ],
   "source": [
    "mes.favourites_count"
   ]
  },
  {
   "cell_type": "code",
   "execution_count": 32,
   "metadata": {},
   "outputs": [
    {
     "data": {
      "text/plain": [
       "197"
      ]
     },
     "execution_count": 32,
     "metadata": {},
     "output_type": "execute_result"
    }
   ],
   "source": [
    "mes.friends_count"
   ]
  },
  {
   "cell_type": "code",
   "execution_count": 47,
   "metadata": {},
   "outputs": [],
   "source": [
    "tweets = api.user_timeline(id = \"h0nbad\")"
   ]
  },
  {
   "cell_type": "code",
   "execution_count": 48,
   "metadata": {},
   "outputs": [
    {
     "name": "stdout",
     "output_type": "stream",
     "text": [
      "@FGemci Hmm ✍️\n",
      "Böyle ülke yönetimine, böyle topluma, böyle liyakatsiz planlamaya böyle milli takım :)\n",
      "@fthdulgar @hbylm Ajajajajsjdk\n",
      "@kahkecibeyza hakkımı yiyosun, ankara havası açınca halimi biliyosun..\n",
      "Beni sorgulamaya ve okumaya iten tüm etmenlere hayatımı borçluyum. Eğer sorgulamasaydım, bu toplum gibi düşünecek v… https://t.co/GgL5JYQt8g\n",
      "Bu toplum içerisinde yaşadığım her geçen gün, gördüğüm ve yaşadığım olaylar ile bu olaylara verilen tepkiler bana g… https://t.co/xQpJ7bNIkH\n",
      "@hbylm @CeyhunKnlz Kıyamet mi kopuyo\n",
      "“tuzağa düştün ahraz”\n",
      "@hbylm Duydun ya rab\n",
      "@hbylm Fener kaç yıl şampiyon olamaz?\n",
      "sa from honbadapp\n",
      "@serkannkargii Kesinlikle\n",
      "@serkannkargii Hayatta kalma içgüdüsünden dolayı da diyebilir miyiz sayın hocam\n",
      "Bu zamana kadar iş başvurusunda bulunduğum 30+ şirketten sadece yurt dışındaki bir firma geri dönüş yaptı. Olumsuz… https://t.co/H2KbbvvTdN\n",
      "@kahkecibeyza @hbylm Cullukla konuştum..\n",
      "@hbylm @kahkecibeyza Benim maraşta kalma sürem arttı sen ne diyosun ajsjdkfk\n",
      "@berkaybugday @Simsekalkan1 40/11 e hicret ediyorlar\n",
      "@hbylm @CeyhunKnlz Ahsjjskfkfg\n",
      "@hbylm @CeyhunKnlz https://t.co/vcTmRs3Yaq\n",
      "Sıvadı ajsjdkfkf\n"
     ]
    }
   ],
   "source": [
    "for i in tweets:\n",
    "    print(i.text)"
   ]
  },
  {
   "cell_type": "code",
   "execution_count": 49,
   "metadata": {},
   "outputs": [],
   "source": [
    "def timeline_df(tweets):\n",
    "    idler = [tweet.id for tweet  in tweets]\n",
    "    import pandas as pd\n",
    "    df = pd.DataFrame(idler, columns = [\"id\"])\n",
    "    \n",
    "    df[\"created_at\"] = [tweet.created_at for tweet in tweets]\n",
    "    df[\"text\"] = [tweet.text for tweet in tweets]\n",
    "    df[\"favorite_count\"] = [tweet.favorite_count for tweet in tweets]\n",
    "    df[\"retweet_count\"] = [tweet.retweet_count for tweet in tweets]\n",
    "    df[\"source\"] = [tweet.source for kisi in tweets]\n",
    "    \n",
    "    return df"
   ]
  },
  {
   "cell_type": "markdown",
   "metadata": {},
   "source": [
    "Son olarak attığım veya cevap verdiğim 20 twit."
   ]
  },
  {
   "cell_type": "code",
   "execution_count": 54,
   "metadata": {},
   "outputs": [
    {
     "data": {
      "text/html": [
       "<div>\n",
       "<style scoped>\n",
       "    .dataframe tbody tr th:only-of-type {\n",
       "        vertical-align: middle;\n",
       "    }\n",
       "\n",
       "    .dataframe tbody tr th {\n",
       "        vertical-align: top;\n",
       "    }\n",
       "\n",
       "    .dataframe thead th {\n",
       "        text-align: right;\n",
       "    }\n",
       "</style>\n",
       "<table border=\"1\" class=\"dataframe\">\n",
       "  <thead>\n",
       "    <tr style=\"text-align: right;\">\n",
       "      <th></th>\n",
       "      <th>id</th>\n",
       "      <th>created_at</th>\n",
       "      <th>text</th>\n",
       "      <th>favorite_count</th>\n",
       "      <th>retweet_count</th>\n",
       "      <th>source</th>\n",
       "    </tr>\n",
       "  </thead>\n",
       "  <tbody>\n",
       "    <tr>\n",
       "      <th>0</th>\n",
       "      <td>1436073414045876227</td>\n",
       "      <td>2021-09-09 21:05:57</td>\n",
       "      <td>@FGemci Hmm ✍️</td>\n",
       "      <td>1</td>\n",
       "      <td>0</td>\n",
       "      <td>Twitter for iPhone</td>\n",
       "    </tr>\n",
       "    <tr>\n",
       "      <th>1</th>\n",
       "      <td>1435360029029318660</td>\n",
       "      <td>2021-09-07 21:51:13</td>\n",
       "      <td>Böyle ülke yönetimine, böyle topluma, böyle li...</td>\n",
       "      <td>4</td>\n",
       "      <td>0</td>\n",
       "      <td>Twitter for iPhone</td>\n",
       "    </tr>\n",
       "    <tr>\n",
       "      <th>2</th>\n",
       "      <td>1432746057474183170</td>\n",
       "      <td>2021-08-31 16:44:13</td>\n",
       "      <td>@fthdulgar @hbylm Ajajajajsjdk</td>\n",
       "      <td>1</td>\n",
       "      <td>0</td>\n",
       "      <td>Twitter for iPhone</td>\n",
       "    </tr>\n",
       "    <tr>\n",
       "      <th>3</th>\n",
       "      <td>1431319195648765958</td>\n",
       "      <td>2021-08-27 18:14:23</td>\n",
       "      <td>@kahkecibeyza hakkımı yiyosun, ankara havası a...</td>\n",
       "      <td>2</td>\n",
       "      <td>0</td>\n",
       "      <td>Twitter for iPhone</td>\n",
       "    </tr>\n",
       "    <tr>\n",
       "      <th>4</th>\n",
       "      <td>1421992989484855301</td>\n",
       "      <td>2021-08-02 00:35:22</td>\n",
       "      <td>Beni sorgulamaya ve okumaya iten tüm etmenlere...</td>\n",
       "      <td>7</td>\n",
       "      <td>0</td>\n",
       "      <td>Twitter for iPhone</td>\n",
       "    </tr>\n",
       "    <tr>\n",
       "      <th>...</th>\n",
       "      <td>...</td>\n",
       "      <td>...</td>\n",
       "      <td>...</td>\n",
       "      <td>...</td>\n",
       "      <td>...</td>\n",
       "      <td>...</td>\n",
       "    </tr>\n",
       "    <tr>\n",
       "      <th>195</th>\n",
       "      <td>1231203333303623680</td>\n",
       "      <td>2020-02-22 13:05:23</td>\n",
       "      <td>@LettreDeCamille Pardon, yapmam, ben bir salağım</td>\n",
       "      <td>0</td>\n",
       "      <td>0</td>\n",
       "      <td>Twitter for iPhone</td>\n",
       "    </tr>\n",
       "    <tr>\n",
       "      <th>196</th>\n",
       "      <td>1231200557567791104</td>\n",
       "      <td>2020-02-22 12:54:22</td>\n",
       "      <td>Evet sevgili twitter alemi, merak ettiğim bir ...</td>\n",
       "      <td>0</td>\n",
       "      <td>0</td>\n",
       "      <td>Twitter for iPhone</td>\n",
       "    </tr>\n",
       "    <tr>\n",
       "      <th>197</th>\n",
       "      <td>1231189973233283080</td>\n",
       "      <td>2020-02-22 12:12:18</td>\n",
       "      <td>@kisakirmizi Sigaramız derken? Evet ben bi man...</td>\n",
       "      <td>1</td>\n",
       "      <td>0</td>\n",
       "      <td>Twitter for iPhone</td>\n",
       "    </tr>\n",
       "    <tr>\n",
       "      <th>198</th>\n",
       "      <td>1230228015164116995</td>\n",
       "      <td>2020-02-19 20:29:50</td>\n",
       "      <td>@FGemci @Cagatay116 Arkadaşlarının yanlış yazı...</td>\n",
       "      <td>1</td>\n",
       "      <td>0</td>\n",
       "      <td>Twitter for iPhone</td>\n",
       "    </tr>\n",
       "    <tr>\n",
       "      <th>199</th>\n",
       "      <td>1230153094744477697</td>\n",
       "      <td>2020-02-19 15:32:07</td>\n",
       "      <td>@stjcivciv https://t.co/epHZwE4rxS</td>\n",
       "      <td>2</td>\n",
       "      <td>0</td>\n",
       "      <td>Twitter for iPhone</td>\n",
       "    </tr>\n",
       "  </tbody>\n",
       "</table>\n",
       "<p>200 rows × 6 columns</p>\n",
       "</div>"
      ],
      "text/plain": [
       "                      id          created_at  \\\n",
       "0    1436073414045876227 2021-09-09 21:05:57   \n",
       "1    1435360029029318660 2021-09-07 21:51:13   \n",
       "2    1432746057474183170 2021-08-31 16:44:13   \n",
       "3    1431319195648765958 2021-08-27 18:14:23   \n",
       "4    1421992989484855301 2021-08-02 00:35:22   \n",
       "..                   ...                 ...   \n",
       "195  1231203333303623680 2020-02-22 13:05:23   \n",
       "196  1231200557567791104 2020-02-22 12:54:22   \n",
       "197  1231189973233283080 2020-02-22 12:12:18   \n",
       "198  1230228015164116995 2020-02-19 20:29:50   \n",
       "199  1230153094744477697 2020-02-19 15:32:07   \n",
       "\n",
       "                                                  text  favorite_count  \\\n",
       "0                                       @FGemci Hmm ✍️               1   \n",
       "1    Böyle ülke yönetimine, böyle topluma, böyle li...               4   \n",
       "2                       @fthdulgar @hbylm Ajajajajsjdk               1   \n",
       "3    @kahkecibeyza hakkımı yiyosun, ankara havası a...               2   \n",
       "4    Beni sorgulamaya ve okumaya iten tüm etmenlere...               7   \n",
       "..                                                 ...             ...   \n",
       "195   @LettreDeCamille Pardon, yapmam, ben bir salağım               0   \n",
       "196  Evet sevgili twitter alemi, merak ettiğim bir ...               0   \n",
       "197  @kisakirmizi Sigaramız derken? Evet ben bi man...               1   \n",
       "198  @FGemci @Cagatay116 Arkadaşlarının yanlış yazı...               1   \n",
       "199                 @stjcivciv https://t.co/epHZwE4rxS               2   \n",
       "\n",
       "     retweet_count              source  \n",
       "0                0  Twitter for iPhone  \n",
       "1                0  Twitter for iPhone  \n",
       "2                0  Twitter for iPhone  \n",
       "3                0  Twitter for iPhone  \n",
       "4                0  Twitter for iPhone  \n",
       "..             ...                 ...  \n",
       "195              0  Twitter for iPhone  \n",
       "196              0  Twitter for iPhone  \n",
       "197              0  Twitter for iPhone  \n",
       "198              0  Twitter for iPhone  \n",
       "199              0  Twitter for iPhone  \n",
       "\n",
       "[200 rows x 6 columns]"
      ]
     },
     "execution_count": 54,
     "metadata": {},
     "output_type": "execute_result"
    }
   ],
   "source": [
    "mes = timeline_df(tweets)\n",
    "mes"
   ]
  },
  {
   "cell_type": "code",
   "execution_count": 55,
   "metadata": {},
   "outputs": [
    {
     "data": {
      "text/html": [
       "<div>\n",
       "<style scoped>\n",
       "    .dataframe tbody tr th:only-of-type {\n",
       "        vertical-align: middle;\n",
       "    }\n",
       "\n",
       "    .dataframe tbody tr th {\n",
       "        vertical-align: top;\n",
       "    }\n",
       "\n",
       "    .dataframe thead th {\n",
       "        text-align: right;\n",
       "    }\n",
       "</style>\n",
       "<table border=\"1\" class=\"dataframe\">\n",
       "  <thead>\n",
       "    <tr style=\"text-align: right;\">\n",
       "      <th></th>\n",
       "      <th>id</th>\n",
       "      <th>created_at</th>\n",
       "      <th>text</th>\n",
       "      <th>favorite_count</th>\n",
       "      <th>retweet_count</th>\n",
       "      <th>source</th>\n",
       "    </tr>\n",
       "  </thead>\n",
       "  <tbody>\n",
       "    <tr>\n",
       "      <th>0</th>\n",
       "      <td>1436073414045876227</td>\n",
       "      <td>2021-09-09 21:05:57</td>\n",
       "      <td>@FGemci Hmm ✍️</td>\n",
       "      <td>1</td>\n",
       "      <td>0</td>\n",
       "      <td>Twitter for iPhone</td>\n",
       "    </tr>\n",
       "    <tr>\n",
       "      <th>1</th>\n",
       "      <td>1435360029029318660</td>\n",
       "      <td>2021-09-07 21:51:13</td>\n",
       "      <td>Böyle ülke yönetimine, böyle topluma, böyle li...</td>\n",
       "      <td>4</td>\n",
       "      <td>0</td>\n",
       "      <td>Twitter for iPhone</td>\n",
       "    </tr>\n",
       "    <tr>\n",
       "      <th>2</th>\n",
       "      <td>1432746057474183170</td>\n",
       "      <td>2021-08-31 16:44:13</td>\n",
       "      <td>@fthdulgar @hbylm Ajajajajsjdk</td>\n",
       "      <td>1</td>\n",
       "      <td>0</td>\n",
       "      <td>Twitter for iPhone</td>\n",
       "    </tr>\n",
       "    <tr>\n",
       "      <th>3</th>\n",
       "      <td>1431319195648765958</td>\n",
       "      <td>2021-08-27 18:14:23</td>\n",
       "      <td>@kahkecibeyza hakkımı yiyosun, ankara havası a...</td>\n",
       "      <td>2</td>\n",
       "      <td>0</td>\n",
       "      <td>Twitter for iPhone</td>\n",
       "    </tr>\n",
       "    <tr>\n",
       "      <th>4</th>\n",
       "      <td>1421992989484855301</td>\n",
       "      <td>2021-08-02 00:35:22</td>\n",
       "      <td>Beni sorgulamaya ve okumaya iten tüm etmenlere...</td>\n",
       "      <td>7</td>\n",
       "      <td>0</td>\n",
       "      <td>Twitter for iPhone</td>\n",
       "    </tr>\n",
       "    <tr>\n",
       "      <th>...</th>\n",
       "      <td>...</td>\n",
       "      <td>...</td>\n",
       "      <td>...</td>\n",
       "      <td>...</td>\n",
       "      <td>...</td>\n",
       "      <td>...</td>\n",
       "    </tr>\n",
       "    <tr>\n",
       "      <th>195</th>\n",
       "      <td>1231203333303623680</td>\n",
       "      <td>2020-02-22 13:05:23</td>\n",
       "      <td>@LettreDeCamille Pardon, yapmam, ben bir salağım</td>\n",
       "      <td>0</td>\n",
       "      <td>0</td>\n",
       "      <td>Twitter for iPhone</td>\n",
       "    </tr>\n",
       "    <tr>\n",
       "      <th>196</th>\n",
       "      <td>1231200557567791104</td>\n",
       "      <td>2020-02-22 12:54:22</td>\n",
       "      <td>Evet sevgili twitter alemi, merak ettiğim bir ...</td>\n",
       "      <td>0</td>\n",
       "      <td>0</td>\n",
       "      <td>Twitter for iPhone</td>\n",
       "    </tr>\n",
       "    <tr>\n",
       "      <th>197</th>\n",
       "      <td>1231189973233283080</td>\n",
       "      <td>2020-02-22 12:12:18</td>\n",
       "      <td>@kisakirmizi Sigaramız derken? Evet ben bi man...</td>\n",
       "      <td>1</td>\n",
       "      <td>0</td>\n",
       "      <td>Twitter for iPhone</td>\n",
       "    </tr>\n",
       "    <tr>\n",
       "      <th>198</th>\n",
       "      <td>1230228015164116995</td>\n",
       "      <td>2020-02-19 20:29:50</td>\n",
       "      <td>@FGemci @Cagatay116 Arkadaşlarının yanlış yazı...</td>\n",
       "      <td>1</td>\n",
       "      <td>0</td>\n",
       "      <td>Twitter for iPhone</td>\n",
       "    </tr>\n",
       "    <tr>\n",
       "      <th>199</th>\n",
       "      <td>1230153094744477697</td>\n",
       "      <td>2020-02-19 15:32:07</td>\n",
       "      <td>@stjcivciv https://t.co/epHZwE4rxS</td>\n",
       "      <td>2</td>\n",
       "      <td>0</td>\n",
       "      <td>Twitter for iPhone</td>\n",
       "    </tr>\n",
       "  </tbody>\n",
       "</table>\n",
       "<p>200 rows × 6 columns</p>\n",
       "</div>"
      ],
      "text/plain": [
       "                      id          created_at  \\\n",
       "0    1436073414045876227 2021-09-09 21:05:57   \n",
       "1    1435360029029318660 2021-09-07 21:51:13   \n",
       "2    1432746057474183170 2021-08-31 16:44:13   \n",
       "3    1431319195648765958 2021-08-27 18:14:23   \n",
       "4    1421992989484855301 2021-08-02 00:35:22   \n",
       "..                   ...                 ...   \n",
       "195  1231203333303623680 2020-02-22 13:05:23   \n",
       "196  1231200557567791104 2020-02-22 12:54:22   \n",
       "197  1231189973233283080 2020-02-22 12:12:18   \n",
       "198  1230228015164116995 2020-02-19 20:29:50   \n",
       "199  1230153094744477697 2020-02-19 15:32:07   \n",
       "\n",
       "                                                  text  favorite_count  \\\n",
       "0                                       @FGemci Hmm ✍️               1   \n",
       "1    Böyle ülke yönetimine, böyle topluma, böyle li...               4   \n",
       "2                       @fthdulgar @hbylm Ajajajajsjdk               1   \n",
       "3    @kahkecibeyza hakkımı yiyosun, ankara havası a...               2   \n",
       "4    Beni sorgulamaya ve okumaya iten tüm etmenlere...               7   \n",
       "..                                                 ...             ...   \n",
       "195   @LettreDeCamille Pardon, yapmam, ben bir salağım               0   \n",
       "196  Evet sevgili twitter alemi, merak ettiğim bir ...               0   \n",
       "197  @kisakirmizi Sigaramız derken? Evet ben bi man...               1   \n",
       "198  @FGemci @Cagatay116 Arkadaşlarının yanlış yazı...               1   \n",
       "199                 @stjcivciv https://t.co/epHZwE4rxS               2   \n",
       "\n",
       "     retweet_count              source  \n",
       "0                0  Twitter for iPhone  \n",
       "1                0  Twitter for iPhone  \n",
       "2                0  Twitter for iPhone  \n",
       "3                0  Twitter for iPhone  \n",
       "4                0  Twitter for iPhone  \n",
       "..             ...                 ...  \n",
       "195              0  Twitter for iPhone  \n",
       "196              0  Twitter for iPhone  \n",
       "197              0  Twitter for iPhone  \n",
       "198              0  Twitter for iPhone  \n",
       "199              0  Twitter for iPhone  \n",
       "\n",
       "[200 rows x 6 columns]"
      ]
     },
     "execution_count": 55,
     "metadata": {},
     "output_type": "execute_result"
    }
   ],
   "source": [
    "timeline_df(tweets)"
   ]
  },
  {
   "cell_type": "code",
   "execution_count": 56,
   "metadata": {},
   "outputs": [],
   "source": [
    "def  timeline_df(tweets):\n",
    "    import pandas as pd\n",
    "    df = pd.DataFrame()\n",
    "    df['id'] = list(map(lambda tweet: tweet.id, tweets))\n",
    "    df['created_at'] = list(map(lambda tweet: tweet.created_at, tweets))\n",
    "    df['text'] = list(map(lambda tweet: tweet.text, tweets))\n",
    "    df['favorite_count'] = list(map(lambda tweet: tweet.favorite_count, tweets))\n",
    "    df['retweet_count'] = list(map(lambda tweet: tweet.retweet_count, tweets))\n",
    "    df['source'] = list(map(lambda tweet: tweet.source, tweets))\n",
    "    return df"
   ]
  },
  {
   "cell_type": "code",
   "execution_count": 57,
   "metadata": {},
   "outputs": [],
   "source": [
    "tweets = api.user_timeline(id = \"h0nbad\", count = 200)\n",
    "df = timeline_df(tweets)"
   ]
  },
  {
   "cell_type": "code",
   "execution_count": 58,
   "metadata": {},
   "outputs": [
    {
     "data": {
      "text/plain": [
       "\u001b[1;31mType:\u001b[0m        property\n",
       "\u001b[1;31mString form:\u001b[0m <property object at 0x00000222CA6F79A0>\n",
       "\u001b[1;31mDocstring:\u001b[0m  \n",
       ":reference: https://developer.twitter.com/en/docs/tweets/timelines/api-reference/get-statuses-user_timeline\n",
       ":allowed_param: 'id', 'user_id', 'screen_name', 'since_id',\n",
       "                'max_id', 'count', 'include_rts', 'trim_user',\n",
       "                'exclude_replies'\n"
      ]
     },
     "metadata": {},
     "output_type": "display_data"
    }
   ],
   "source": [
    "?api.user_timeline"
   ]
  },
  {
   "cell_type": "code",
   "execution_count": 59,
   "metadata": {},
   "outputs": [
    {
     "data": {
      "text/plain": [
       "\u001b[1;31mType:\u001b[0m        ResultSet\n",
       "\u001b[1;31mString form:\u001b[0m [Status(_api=<tweepy.api.API object at 0x00000222D006A280>, _json={'created_at': 'Thu Sep 09 21:0 <...> unt=0, favorite_count=2, favorited=False, retweeted=False, possibly_sensitive=False, lang='und')]\n",
       "\u001b[1;31mLength:\u001b[0m      200\n",
       "\u001b[1;31mFile:\u001b[0m        c:\\users\\monster\\anaconda3\\lib\\site-packages\\tweepy\\models.py\n",
       "\u001b[1;31mDocstring:\u001b[0m   A list like object that holds results from a Twitter API query.\n"
      ]
     },
     "metadata": {},
     "output_type": "display_data"
    }
   ],
   "source": [
    "?tweets"
   ]
  },
  {
   "cell_type": "code",
   "execution_count": 60,
   "metadata": {},
   "outputs": [
    {
     "data": {
      "text/plain": [
       "(200, 6)"
      ]
     },
     "execution_count": 60,
     "metadata": {},
     "output_type": "execute_result"
    }
   ],
   "source": [
    "df.shape"
   ]
  },
  {
   "cell_type": "code",
   "execution_count": 61,
   "metadata": {},
   "outputs": [
    {
     "data": {
      "text/html": [
       "<div>\n",
       "<style scoped>\n",
       "    .dataframe tbody tr th:only-of-type {\n",
       "        vertical-align: middle;\n",
       "    }\n",
       "\n",
       "    .dataframe tbody tr th {\n",
       "        vertical-align: top;\n",
       "    }\n",
       "\n",
       "    .dataframe thead th {\n",
       "        text-align: right;\n",
       "    }\n",
       "</style>\n",
       "<table border=\"1\" class=\"dataframe\">\n",
       "  <thead>\n",
       "    <tr style=\"text-align: right;\">\n",
       "      <th></th>\n",
       "      <th>id</th>\n",
       "      <th>created_at</th>\n",
       "      <th>text</th>\n",
       "      <th>favorite_count</th>\n",
       "      <th>retweet_count</th>\n",
       "      <th>source</th>\n",
       "    </tr>\n",
       "  </thead>\n",
       "  <tbody>\n",
       "    <tr>\n",
       "      <th>0</th>\n",
       "      <td>1436073414045876227</td>\n",
       "      <td>2021-09-09 21:05:57</td>\n",
       "      <td>@FGemci Hmm ✍️</td>\n",
       "      <td>1</td>\n",
       "      <td>0</td>\n",
       "      <td>Twitter for iPhone</td>\n",
       "    </tr>\n",
       "    <tr>\n",
       "      <th>1</th>\n",
       "      <td>1435360029029318660</td>\n",
       "      <td>2021-09-07 21:51:13</td>\n",
       "      <td>Böyle ülke yönetimine, böyle topluma, böyle li...</td>\n",
       "      <td>4</td>\n",
       "      <td>0</td>\n",
       "      <td>Twitter for iPhone</td>\n",
       "    </tr>\n",
       "    <tr>\n",
       "      <th>2</th>\n",
       "      <td>1432746057474183170</td>\n",
       "      <td>2021-08-31 16:44:13</td>\n",
       "      <td>@fthdulgar @hbylm Ajajajajsjdk</td>\n",
       "      <td>1</td>\n",
       "      <td>0</td>\n",
       "      <td>Twitter for iPhone</td>\n",
       "    </tr>\n",
       "    <tr>\n",
       "      <th>3</th>\n",
       "      <td>1431319195648765958</td>\n",
       "      <td>2021-08-27 18:14:23</td>\n",
       "      <td>@kahkecibeyza hakkımı yiyosun, ankara havası a...</td>\n",
       "      <td>2</td>\n",
       "      <td>0</td>\n",
       "      <td>Twitter for iPhone</td>\n",
       "    </tr>\n",
       "    <tr>\n",
       "      <th>4</th>\n",
       "      <td>1421992989484855301</td>\n",
       "      <td>2021-08-02 00:35:22</td>\n",
       "      <td>Beni sorgulamaya ve okumaya iten tüm etmenlere...</td>\n",
       "      <td>7</td>\n",
       "      <td>0</td>\n",
       "      <td>Twitter for iPhone</td>\n",
       "    </tr>\n",
       "  </tbody>\n",
       "</table>\n",
       "</div>"
      ],
      "text/plain": [
       "                    id          created_at  \\\n",
       "0  1436073414045876227 2021-09-09 21:05:57   \n",
       "1  1435360029029318660 2021-09-07 21:51:13   \n",
       "2  1432746057474183170 2021-08-31 16:44:13   \n",
       "3  1431319195648765958 2021-08-27 18:14:23   \n",
       "4  1421992989484855301 2021-08-02 00:35:22   \n",
       "\n",
       "                                                text  favorite_count  \\\n",
       "0                                     @FGemci Hmm ✍️               1   \n",
       "1  Böyle ülke yönetimine, böyle topluma, böyle li...               4   \n",
       "2                     @fthdulgar @hbylm Ajajajajsjdk               1   \n",
       "3  @kahkecibeyza hakkımı yiyosun, ankara havası a...               2   \n",
       "4  Beni sorgulamaya ve okumaya iten tüm etmenlere...               7   \n",
       "\n",
       "   retweet_count              source  \n",
       "0              0  Twitter for iPhone  \n",
       "1              0  Twitter for iPhone  \n",
       "2              0  Twitter for iPhone  \n",
       "3              0  Twitter for iPhone  \n",
       "4              0  Twitter for iPhone  "
      ]
     },
     "execution_count": 61,
     "metadata": {},
     "output_type": "execute_result"
    }
   ],
   "source": [
    "df.head()"
   ]
  },
  {
   "cell_type": "code",
   "execution_count": 62,
   "metadata": {},
   "outputs": [],
   "source": [
    "#profil enleri"
   ]
  },
  {
   "cell_type": "markdown",
   "metadata": {},
   "source": [
    "En çok favori alan twitlerim"
   ]
  },
  {
   "cell_type": "code",
   "execution_count": 63,
   "metadata": {},
   "outputs": [
    {
     "data": {
      "text/html": [
       "<div>\n",
       "<style scoped>\n",
       "    .dataframe tbody tr th:only-of-type {\n",
       "        vertical-align: middle;\n",
       "    }\n",
       "\n",
       "    .dataframe tbody tr th {\n",
       "        vertical-align: top;\n",
       "    }\n",
       "\n",
       "    .dataframe thead th {\n",
       "        text-align: right;\n",
       "    }\n",
       "</style>\n",
       "<table border=\"1\" class=\"dataframe\">\n",
       "  <thead>\n",
       "    <tr style=\"text-align: right;\">\n",
       "      <th></th>\n",
       "      <th>id</th>\n",
       "      <th>created_at</th>\n",
       "      <th>text</th>\n",
       "      <th>favorite_count</th>\n",
       "      <th>retweet_count</th>\n",
       "      <th>source</th>\n",
       "    </tr>\n",
       "  </thead>\n",
       "  <tbody>\n",
       "    <tr>\n",
       "      <th>61</th>\n",
       "      <td>1342051353338765312</td>\n",
       "      <td>2020-12-24 10:15:51</td>\n",
       "      <td>Bu gün, maske takmama rağmen polis memurunun m...</td>\n",
       "      <td>28</td>\n",
       "      <td>0</td>\n",
       "      <td>Twitter for iPhone</td>\n",
       "    </tr>\n",
       "    <tr>\n",
       "      <th>44</th>\n",
       "      <td>1352005395418652672</td>\n",
       "      <td>2021-01-20 21:29:39</td>\n",
       "      <td>Sayın avukatım @kahkecibeyza ‘ya teşekkürlerim...</td>\n",
       "      <td>20</td>\n",
       "      <td>0</td>\n",
       "      <td>Twitter for iPhone</td>\n",
       "    </tr>\n",
       "    <tr>\n",
       "      <th>89</th>\n",
       "      <td>1318231141699194881</td>\n",
       "      <td>2020-10-19 16:42:50</td>\n",
       "      <td>Ulan ne twit atmışım amk, ocak ayından beri tü...</td>\n",
       "      <td>19</td>\n",
       "      <td>0</td>\n",
       "      <td>Twitter for iPhone</td>\n",
       "    </tr>\n",
       "    <tr>\n",
       "      <th>50</th>\n",
       "      <td>1351501242657361922</td>\n",
       "      <td>2021-01-19 12:06:20</td>\n",
       "      <td>Ve bu sürecin sonunda gördüğüm tek bi şey var,...</td>\n",
       "      <td>17</td>\n",
       "      <td>0</td>\n",
       "      <td>Twitter for iPhone</td>\n",
       "    </tr>\n",
       "    <tr>\n",
       "      <th>136</th>\n",
       "      <td>1262815310027128834</td>\n",
       "      <td>2020-05-19 18:40:06</td>\n",
       "      <td>Harry’nin mürver asayı kırıp atması = tüm mall...</td>\n",
       "      <td>17</td>\n",
       "      <td>0</td>\n",
       "      <td>Twitter for iPhone</td>\n",
       "    </tr>\n",
       "    <tr>\n",
       "      <th>52</th>\n",
       "      <td>1351500353859158018</td>\n",
       "      <td>2021-01-19 12:02:48</td>\n",
       "      <td>Zekama, aklıma şükür ki üniversitede tanıştığı...</td>\n",
       "      <td>16</td>\n",
       "      <td>0</td>\n",
       "      <td>Twitter for iPhone</td>\n",
       "    </tr>\n",
       "    <tr>\n",
       "      <th>155</th>\n",
       "      <td>1249405840668397575</td>\n",
       "      <td>2020-04-12 18:35:39</td>\n",
       "      <td>Güzel bi akşam oluyor, okkalı bi kahve yapayım..</td>\n",
       "      <td>16</td>\n",
       "      <td>0</td>\n",
       "      <td>Twitter for iPhone</td>\n",
       "    </tr>\n",
       "    <tr>\n",
       "      <th>51</th>\n",
       "      <td>1351500998397865984</td>\n",
       "      <td>2021-01-19 12:05:22</td>\n",
       "      <td>Bu sürecin sonunda tamamen bana ait, kimsenin ...</td>\n",
       "      <td>13</td>\n",
       "      <td>0</td>\n",
       "      <td>Twitter for iPhone</td>\n",
       "    </tr>\n",
       "    <tr>\n",
       "      <th>5</th>\n",
       "      <td>1421992617726853120</td>\n",
       "      <td>2021-08-02 00:33:54</td>\n",
       "      <td>Bu toplum içerisinde yaşadığım her geçen gün, ...</td>\n",
       "      <td>13</td>\n",
       "      <td>0</td>\n",
       "      <td>Twitter for iPhone</td>\n",
       "    </tr>\n",
       "    <tr>\n",
       "      <th>150</th>\n",
       "      <td>1250086194932744195</td>\n",
       "      <td>2020-04-14 15:39:09</td>\n",
       "      <td>Bir yudum viski ve bi bitki yeter..</td>\n",
       "      <td>11</td>\n",
       "      <td>0</td>\n",
       "      <td>Twitter for iPhone</td>\n",
       "    </tr>\n",
       "    <tr>\n",
       "      <th>13</th>\n",
       "      <td>1403050645393903616</td>\n",
       "      <td>2021-06-10 18:05:15</td>\n",
       "      <td>Bu zamana kadar iş başvurusunda bulunduğum 30+...</td>\n",
       "      <td>11</td>\n",
       "      <td>0</td>\n",
       "      <td>Twitter for iPhone</td>\n",
       "    </tr>\n",
       "    <tr>\n",
       "      <th>47</th>\n",
       "      <td>1351988899543973889</td>\n",
       "      <td>2021-01-20 20:24:07</td>\n",
       "      <td>Zaten biz yokmuşuz, cesaret yokmuş, yiğitlik,m...</td>\n",
       "      <td>10</td>\n",
       "      <td>0</td>\n",
       "      <td>Twitter for iPhone</td>\n",
       "    </tr>\n",
       "    <tr>\n",
       "      <th>91</th>\n",
       "      <td>1306241266473209858</td>\n",
       "      <td>2020-09-16 14:39:21</td>\n",
       "      <td>Bölüm mezuniyet videosuna anasınıfı arkadaşıml...</td>\n",
       "      <td>10</td>\n",
       "      <td>0</td>\n",
       "      <td>Twitter for iPhone</td>\n",
       "    </tr>\n",
       "    <tr>\n",
       "      <th>7</th>\n",
       "      <td>1410712258859126785</td>\n",
       "      <td>2021-07-01 21:29:46</td>\n",
       "      <td>“tuzağa düştün ahraz”</td>\n",
       "      <td>9</td>\n",
       "      <td>0</td>\n",
       "      <td>Twitter for iPhone</td>\n",
       "    </tr>\n",
       "    <tr>\n",
       "      <th>106</th>\n",
       "      <td>1302938746900418561</td>\n",
       "      <td>2020-09-07 11:56:19</td>\n",
       "      <td>Öte dur, bak, eloğlu, kardeş tanımaz bilmez\\nE...</td>\n",
       "      <td>9</td>\n",
       "      <td>0</td>\n",
       "      <td>Twitter for iPhone</td>\n",
       "    </tr>\n",
       "    <tr>\n",
       "      <th>152</th>\n",
       "      <td>1249488063061012481</td>\n",
       "      <td>2020-04-13 00:02:23</td>\n",
       "      <td>https://t.co/DMo18UbdEP</td>\n",
       "      <td>8</td>\n",
       "      <td>0</td>\n",
       "      <td>Twitter for iPhone</td>\n",
       "    </tr>\n",
       "    <tr>\n",
       "      <th>143</th>\n",
       "      <td>1253087283349159938</td>\n",
       "      <td>2020-04-22 22:24:24</td>\n",
       "      <td>Madem alt yapınız kötü, internet sağlayamıyors...</td>\n",
       "      <td>8</td>\n",
       "      <td>0</td>\n",
       "      <td>Twitter for iPhone</td>\n",
       "    </tr>\n",
       "    <tr>\n",
       "      <th>62</th>\n",
       "      <td>1338107109142097925</td>\n",
       "      <td>2020-12-13 13:02:50</td>\n",
       "      <td>Ulan felek, kahpe misin değil misin bilmem ama...</td>\n",
       "      <td>8</td>\n",
       "      <td>1</td>\n",
       "      <td>Twitter for iPhone</td>\n",
       "    </tr>\n",
       "    <tr>\n",
       "      <th>125</th>\n",
       "      <td>1277390172406104065</td>\n",
       "      <td>2020-06-28 23:55:24</td>\n",
       "      <td>@ilkertnrverdi @berkeyillmazer Ne bu kel dayan...</td>\n",
       "      <td>7</td>\n",
       "      <td>0</td>\n",
       "      <td>Twitter for iPhone</td>\n",
       "    </tr>\n",
       "    <tr>\n",
       "      <th>4</th>\n",
       "      <td>1421992989484855301</td>\n",
       "      <td>2021-08-02 00:35:22</td>\n",
       "      <td>Beni sorgulamaya ve okumaya iten tüm etmenlere...</td>\n",
       "      <td>7</td>\n",
       "      <td>0</td>\n",
       "      <td>Twitter for iPhone</td>\n",
       "    </tr>\n",
       "  </tbody>\n",
       "</table>\n",
       "</div>"
      ],
      "text/plain": [
       "                      id          created_at  \\\n",
       "61   1342051353338765312 2020-12-24 10:15:51   \n",
       "44   1352005395418652672 2021-01-20 21:29:39   \n",
       "89   1318231141699194881 2020-10-19 16:42:50   \n",
       "50   1351501242657361922 2021-01-19 12:06:20   \n",
       "136  1262815310027128834 2020-05-19 18:40:06   \n",
       "52   1351500353859158018 2021-01-19 12:02:48   \n",
       "155  1249405840668397575 2020-04-12 18:35:39   \n",
       "51   1351500998397865984 2021-01-19 12:05:22   \n",
       "5    1421992617726853120 2021-08-02 00:33:54   \n",
       "150  1250086194932744195 2020-04-14 15:39:09   \n",
       "13   1403050645393903616 2021-06-10 18:05:15   \n",
       "47   1351988899543973889 2021-01-20 20:24:07   \n",
       "91   1306241266473209858 2020-09-16 14:39:21   \n",
       "7    1410712258859126785 2021-07-01 21:29:46   \n",
       "106  1302938746900418561 2020-09-07 11:56:19   \n",
       "152  1249488063061012481 2020-04-13 00:02:23   \n",
       "143  1253087283349159938 2020-04-22 22:24:24   \n",
       "62   1338107109142097925 2020-12-13 13:02:50   \n",
       "125  1277390172406104065 2020-06-28 23:55:24   \n",
       "4    1421992989484855301 2021-08-02 00:35:22   \n",
       "\n",
       "                                                  text  favorite_count  \\\n",
       "61   Bu gün, maske takmama rağmen polis memurunun m...              28   \n",
       "44   Sayın avukatım @kahkecibeyza ‘ya teşekkürlerim...              20   \n",
       "89   Ulan ne twit atmışım amk, ocak ayından beri tü...              19   \n",
       "50   Ve bu sürecin sonunda gördüğüm tek bi şey var,...              17   \n",
       "136  Harry’nin mürver asayı kırıp atması = tüm mall...              17   \n",
       "52   Zekama, aklıma şükür ki üniversitede tanıştığı...              16   \n",
       "155   Güzel bi akşam oluyor, okkalı bi kahve yapayım..              16   \n",
       "51   Bu sürecin sonunda tamamen bana ait, kimsenin ...              13   \n",
       "5    Bu toplum içerisinde yaşadığım her geçen gün, ...              13   \n",
       "150                Bir yudum viski ve bi bitki yeter..              11   \n",
       "13   Bu zamana kadar iş başvurusunda bulunduğum 30+...              11   \n",
       "47   Zaten biz yokmuşuz, cesaret yokmuş, yiğitlik,m...              10   \n",
       "91   Bölüm mezuniyet videosuna anasınıfı arkadaşıml...              10   \n",
       "7                                “tuzağa düştün ahraz”               9   \n",
       "106  Öte dur, bak, eloğlu, kardeş tanımaz bilmez\\nE...               9   \n",
       "152                            https://t.co/DMo18UbdEP               8   \n",
       "143  Madem alt yapınız kötü, internet sağlayamıyors...               8   \n",
       "62   Ulan felek, kahpe misin değil misin bilmem ama...               8   \n",
       "125  @ilkertnrverdi @berkeyillmazer Ne bu kel dayan...               7   \n",
       "4    Beni sorgulamaya ve okumaya iten tüm etmenlere...               7   \n",
       "\n",
       "     retweet_count              source  \n",
       "61               0  Twitter for iPhone  \n",
       "44               0  Twitter for iPhone  \n",
       "89               0  Twitter for iPhone  \n",
       "50               0  Twitter for iPhone  \n",
       "136              0  Twitter for iPhone  \n",
       "52               0  Twitter for iPhone  \n",
       "155              0  Twitter for iPhone  \n",
       "51               0  Twitter for iPhone  \n",
       "5                0  Twitter for iPhone  \n",
       "150              0  Twitter for iPhone  \n",
       "13               0  Twitter for iPhone  \n",
       "47               0  Twitter for iPhone  \n",
       "91               0  Twitter for iPhone  \n",
       "7                0  Twitter for iPhone  \n",
       "106              0  Twitter for iPhone  \n",
       "152              0  Twitter for iPhone  \n",
       "143              0  Twitter for iPhone  \n",
       "62               1  Twitter for iPhone  \n",
       "125              0  Twitter for iPhone  \n",
       "4                0  Twitter for iPhone  "
      ]
     },
     "execution_count": 63,
     "metadata": {},
     "output_type": "execute_result"
    }
   ],
   "source": [
    "df = df.sort_values(\"favorite_count\", ascending = False).head(20)\n",
    "df.to_csv(\"favs.csv\")\n",
    "df"
   ]
  },
  {
   "cell_type": "markdown",
   "metadata": {},
   "source": [
    "## Retweet & Favori Sayılarının Dağılımlarının Çıkarılması"
   ]
  },
  {
   "cell_type": "code",
   "execution_count": 64,
   "metadata": {},
   "outputs": [
    {
     "data": {
      "text/html": [
       "<div>\n",
       "<style scoped>\n",
       "    .dataframe tbody tr th:only-of-type {\n",
       "        vertical-align: middle;\n",
       "    }\n",
       "\n",
       "    .dataframe tbody tr th {\n",
       "        vertical-align: top;\n",
       "    }\n",
       "\n",
       "    .dataframe thead th {\n",
       "        text-align: right;\n",
       "    }\n",
       "</style>\n",
       "<table border=\"1\" class=\"dataframe\">\n",
       "  <thead>\n",
       "    <tr style=\"text-align: right;\">\n",
       "      <th></th>\n",
       "      <th>id</th>\n",
       "      <th>created_at</th>\n",
       "      <th>text</th>\n",
       "      <th>favorite_count</th>\n",
       "      <th>retweet_count</th>\n",
       "      <th>source</th>\n",
       "    </tr>\n",
       "  </thead>\n",
       "  <tbody>\n",
       "    <tr>\n",
       "      <th>61</th>\n",
       "      <td>1342051353338765312</td>\n",
       "      <td>2020-12-24 10:15:51</td>\n",
       "      <td>Bu gün, maske takmama rağmen polis memurunun m...</td>\n",
       "      <td>28</td>\n",
       "      <td>0</td>\n",
       "      <td>Twitter for iPhone</td>\n",
       "    </tr>\n",
       "    <tr>\n",
       "      <th>44</th>\n",
       "      <td>1352005395418652672</td>\n",
       "      <td>2021-01-20 21:29:39</td>\n",
       "      <td>Sayın avukatım @kahkecibeyza ‘ya teşekkürlerim...</td>\n",
       "      <td>20</td>\n",
       "      <td>0</td>\n",
       "      <td>Twitter for iPhone</td>\n",
       "    </tr>\n",
       "    <tr>\n",
       "      <th>89</th>\n",
       "      <td>1318231141699194881</td>\n",
       "      <td>2020-10-19 16:42:50</td>\n",
       "      <td>Ulan ne twit atmışım amk, ocak ayından beri tü...</td>\n",
       "      <td>19</td>\n",
       "      <td>0</td>\n",
       "      <td>Twitter for iPhone</td>\n",
       "    </tr>\n",
       "    <tr>\n",
       "      <th>50</th>\n",
       "      <td>1351501242657361922</td>\n",
       "      <td>2021-01-19 12:06:20</td>\n",
       "      <td>Ve bu sürecin sonunda gördüğüm tek bi şey var,...</td>\n",
       "      <td>17</td>\n",
       "      <td>0</td>\n",
       "      <td>Twitter for iPhone</td>\n",
       "    </tr>\n",
       "    <tr>\n",
       "      <th>136</th>\n",
       "      <td>1262815310027128834</td>\n",
       "      <td>2020-05-19 18:40:06</td>\n",
       "      <td>Harry’nin mürver asayı kırıp atması = tüm mall...</td>\n",
       "      <td>17</td>\n",
       "      <td>0</td>\n",
       "      <td>Twitter for iPhone</td>\n",
       "    </tr>\n",
       "  </tbody>\n",
       "</table>\n",
       "</div>"
      ],
      "text/plain": [
       "                      id          created_at  \\\n",
       "61   1342051353338765312 2020-12-24 10:15:51   \n",
       "44   1352005395418652672 2021-01-20 21:29:39   \n",
       "89   1318231141699194881 2020-10-19 16:42:50   \n",
       "50   1351501242657361922 2021-01-19 12:06:20   \n",
       "136  1262815310027128834 2020-05-19 18:40:06   \n",
       "\n",
       "                                                  text  favorite_count  \\\n",
       "61   Bu gün, maske takmama rağmen polis memurunun m...              28   \n",
       "44   Sayın avukatım @kahkecibeyza ‘ya teşekkürlerim...              20   \n",
       "89   Ulan ne twit atmışım amk, ocak ayından beri tü...              19   \n",
       "50   Ve bu sürecin sonunda gördüğüm tek bi şey var,...              17   \n",
       "136  Harry’nin mürver asayı kırıp atması = tüm mall...              17   \n",
       "\n",
       "     retweet_count              source  \n",
       "61               0  Twitter for iPhone  \n",
       "44               0  Twitter for iPhone  \n",
       "89               0  Twitter for iPhone  \n",
       "50               0  Twitter for iPhone  \n",
       "136              0  Twitter for iPhone  "
      ]
     },
     "execution_count": 64,
     "metadata": {},
     "output_type": "execute_result"
    }
   ],
   "source": [
    "df.head()"
   ]
  },
  {
   "cell_type": "code",
   "execution_count": 65,
   "metadata": {},
   "outputs": [],
   "source": [
    "%config InlineBackend.figure_format = 'retina'\n",
    "import seaborn as sns\n",
    "import matplotlib.pyplot as plt"
   ]
  },
  {
   "cell_type": "code",
   "execution_count": 66,
   "metadata": {},
   "outputs": [
    {
     "data": {
      "text/plain": [
       "(0.0, 100.0)"
      ]
     },
     "execution_count": 66,
     "metadata": {},
     "output_type": "execute_result"
    },
    {
     "data": {
      "image/png": "[encoded data removed]",
      "text/plain": [
       "<Figure size 432x288 with 1 Axes>"
      ]
     },
     "metadata": {
      "image/png": {
       "height": 262,
       "width": 378
      },
      "needs_background": "light"
     },
     "output_type": "display_data"
    }
   ],
   "source": [
    "sns.distplot(df.favorite_count, kde = False, color = \"blue\");\n",
    "plt.xlim(0, 100)"
   ]
  },
  {
   "cell_type": "code",
   "execution_count": 67,
   "metadata": {},
   "outputs": [
    {
     "data": {
      "text/plain": [
       "(0.0, 5.0)"
      ]
     },
     "execution_count": 67,
     "metadata": {},
     "output_type": "execute_result"
    },
    {
     "data": {
      "image/png": "[encoded data removed]",
      "text/plain": [
       "<Figure size 432x288 with 1 Axes>"
      ]
     },
     "metadata": {
      "image/png": {
       "height": 261,
       "width": 388
      },
      "needs_background": "light"
     },
     "output_type": "display_data"
    }
   ],
   "source": [
    "sns.distplot(df.retweet_count, color = \"blue\");\n",
    "plt.xlim(0, 5)"
   ]
  }
 ],
 "metadata": {
  "kernelspec": {
   "display_name": "Python 3",
   "language": "python",
   "name": "python3"
  },
  "language_info": {
   "codemirror_mode": {
    "name": "ipython",
    "version": 3
   },
   "file_extension": ".py",
   "mimetype": "text/x-python",
   "name": "python",
   "nbconvert_exporter": "python",
   "pygments_lexer": "ipython3",
   "version": "3.8.8"
  }
 },
 "nbformat": 4,
 "nbformat_minor": 4
}
